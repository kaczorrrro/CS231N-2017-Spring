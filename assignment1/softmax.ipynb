{
 "cells": [
  {
   "cell_type": "markdown",
   "metadata": {},
   "source": [
    "# Softmax exercise\n",
    "\n",
    "*Complete and hand in this completed worksheet (including its outputs and any supporting code outside of the worksheet) with your assignment submission. For more details see the [assignments page](http://vision.stanford.edu/teaching/cs231n/assignments.html) on the course website.*\n",
    "\n",
    "This exercise is analogous to the SVM exercise. You will:\n",
    "\n",
    "- implement a fully-vectorized **loss function** for the Softmax classifier\n",
    "- implement the fully-vectorized expression for its **analytic gradient**\n",
    "- **check your implementation** with numerical gradient\n",
    "- use a validation set to **tune the learning rate and regularization** strength\n",
    "- **optimize** the loss function with **SGD**\n",
    "- **visualize** the final learned weights\n"
   ]
  },
  {
   "cell_type": "code",
   "execution_count": 1,
   "metadata": {
    "collapsed": false
   },
   "outputs": [],
   "source": [
    "import random\n",
    "import numpy as np\n",
    "from cs231n.data_utils import load_CIFAR10\n",
    "import matplotlib.pyplot as plt\n",
    "\n",
    "from __future__ import print_function\n",
    "\n",
    "%matplotlib inline\n",
    "plt.rcParams['figure.figsize'] = (10.0, 8.0) # set default size of plots\n",
    "plt.rcParams['image.interpolation'] = 'nearest'\n",
    "plt.rcParams['image.cmap'] = 'gray'\n",
    "\n",
    "# for auto-reloading extenrnal modules\n",
    "# see http://stackoverflow.com/questions/1907993/autoreload-of-modules-in-ipython\n",
    "%load_ext autoreload\n",
    "%autoreload 2"
   ]
  },
  {
   "cell_type": "code",
   "execution_count": 2,
   "metadata": {
    "collapsed": false
   },
   "outputs": [
    {
     "name": "stdout",
     "output_type": "stream",
     "text": [
      "Train data shape:  (49000, 3073)\n",
      "Train labels shape:  (49000,)\n",
      "Validation data shape:  (1000, 3073)\n",
      "Validation labels shape:  (1000,)\n",
      "Test data shape:  (1000, 3073)\n",
      "Test labels shape:  (1000,)\n",
      "dev data shape:  (500, 3073)\n",
      "dev labels shape:  (500,)\n"
     ]
    }
   ],
   "source": [
    "def get_CIFAR10_data(num_training=49000, num_validation=1000, num_test=1000, num_dev=500):\n",
    "    \"\"\"\n",
    "    Load the CIFAR-10 dataset from disk and perform preprocessing to prepare\n",
    "    it for the linear classifier. These are the same steps as we used for the\n",
    "    SVM, but condensed to a single function.  \n",
    "    \"\"\"\n",
    "    # Load the raw CIFAR-10 data\n",
    "    cifar10_dir = 'cs231n/datasets/cifar-10-batches-py'\n",
    "    X_train, y_train, X_test, y_test = load_CIFAR10(cifar10_dir)\n",
    "    \n",
    "    # subsample the data\n",
    "    mask = list(range(num_training, num_training + num_validation))\n",
    "    X_val = X_train[mask]\n",
    "    y_val = y_train[mask]\n",
    "    mask = list(range(num_training))\n",
    "    X_train = X_train[mask]\n",
    "    y_train = y_train[mask]\n",
    "    mask = list(range(num_test))\n",
    "    X_test = X_test[mask]\n",
    "    y_test = y_test[mask]\n",
    "    mask = np.random.choice(num_training, num_dev, replace=False)\n",
    "    X_dev = X_train[mask]\n",
    "    y_dev = y_train[mask]\n",
    "    \n",
    "    # Preprocessing: reshape the image data into rows\n",
    "    X_train = np.reshape(X_train, (X_train.shape[0], -1))\n",
    "    X_val = np.reshape(X_val, (X_val.shape[0], -1))\n",
    "    X_test = np.reshape(X_test, (X_test.shape[0], -1))\n",
    "    X_dev = np.reshape(X_dev, (X_dev.shape[0], -1))\n",
    "    \n",
    "    # Normalize the data: subtract the mean image\n",
    "    mean_image = np.mean(X_train, axis = 0)\n",
    "    X_train -= mean_image\n",
    "    X_val -= mean_image\n",
    "    X_test -= mean_image\n",
    "    X_dev -= mean_image\n",
    "    \n",
    "    # add bias dimension and transform into columns\n",
    "    X_train = np.hstack([X_train, np.ones((X_train.shape[0], 1))])\n",
    "    X_val = np.hstack([X_val, np.ones((X_val.shape[0], 1))])\n",
    "    X_test = np.hstack([X_test, np.ones((X_test.shape[0], 1))])\n",
    "    X_dev = np.hstack([X_dev, np.ones((X_dev.shape[0], 1))])\n",
    "    \n",
    "    return X_train, y_train, X_val, y_val, X_test, y_test, X_dev, y_dev\n",
    "\n",
    "\n",
    "# Invoke the above function to get our data.\n",
    "X_train, y_train, X_val, y_val, X_test, y_test, X_dev, y_dev = get_CIFAR10_data()\n",
    "print('Train data shape: ', X_train.shape)\n",
    "print('Train labels shape: ', y_train.shape)\n",
    "print('Validation data shape: ', X_val.shape)\n",
    "print('Validation labels shape: ', y_val.shape)\n",
    "print('Test data shape: ', X_test.shape)\n",
    "print('Test labels shape: ', y_test.shape)\n",
    "print('dev data shape: ', X_dev.shape)\n",
    "print('dev labels shape: ', y_dev.shape)"
   ]
  },
  {
   "cell_type": "markdown",
   "metadata": {},
   "source": [
    "## Softmax Classifier\n",
    "\n",
    "Your code for this section will all be written inside **cs231n/classifiers/softmax.py**. \n"
   ]
  },
  {
   "cell_type": "code",
   "execution_count": 6,
   "metadata": {
    "collapsed": false
   },
   "outputs": [
    {
     "name": "stdout",
     "output_type": "stream",
     "text": [
      "loss: 2.339267\n",
      "sanity check: 2.302585\n"
     ]
    }
   ],
   "source": [
    "# First implement the naive softmax loss function with nested loops.\n",
    "# Open the file cs231n/classifiers/softmax.py and implement the\n",
    "# softmax_loss_naive function.\n",
    "\n",
    "from cs231n.classifiers.softmax import softmax_loss_naive\n",
    "import time\n",
    "\n",
    "# Generate a random softmax weight matrix and use it to compute the loss.\n",
    "W = np.random.randn(3073, 10) * 0.0001\n",
    "loss, grad = softmax_loss_naive(W, X_dev, y_dev, 0.0)\n",
    "\n",
    "# As a rough sanity check, our loss should be something close to -log(0.1).\n",
    "print('loss: %f' % loss)\n",
    "print('sanity check: %f' % (-np.log(0.1)))"
   ]
  },
  {
   "cell_type": "markdown",
   "metadata": {},
   "source": [
    "## Inline Question 1:\n",
    "Why do we expect our loss to be close to -log(0.1)? Explain briefly.**\n",
    "\n",
    "**Your answer:** *Fill this in*\n"
   ]
  },
  {
   "cell_type": "code",
   "execution_count": 22,
   "metadata": {
    "collapsed": false
   },
   "outputs": [
    {
     "name": "stdout",
     "output_type": "stream",
     "text": [
      "numerical: 0.768028 analytic: 0.768028, relative error: 2.897842e-08\n",
      "numerical: -1.352366 analytic: -1.352366, relative error: 1.586413e-09\n",
      "numerical: 1.532786 analytic: 1.532786, relative error: 4.829345e-08\n",
      "numerical: -1.411134 analytic: -1.411134, relative error: 3.399082e-08\n",
      "numerical: 0.899517 analytic: 0.899517, relative error: 2.755412e-09\n",
      "numerical: -0.544390 analytic: -0.544390, relative error: 6.221314e-08\n",
      "numerical: -0.455509 analytic: -0.455509, relative error: 5.324628e-08\n",
      "numerical: 1.813946 analytic: 1.813946, relative error: 1.126844e-08\n",
      "numerical: -0.183777 analytic: -0.183777, relative error: 1.759463e-07\n",
      "numerical: 2.150758 analytic: 2.150758, relative error: 1.418336e-08\n",
      "With regularization\n",
      "numerical: 1.470347 analytic: 1.470347, relative error: 5.998889e-08\n",
      "numerical: 0.656999 analytic: 0.656999, relative error: 6.549546e-08\n",
      "numerical: 2.346409 analytic: 2.346409, relative error: 2.092377e-08\n",
      "numerical: -0.096877 analytic: -0.096877, relative error: 3.445088e-07\n",
      "numerical: -2.001686 analytic: -2.001686, relative error: 3.169556e-08\n",
      "numerical: 2.122837 analytic: 2.122837, relative error: 1.857201e-08\n",
      "numerical: -3.399041 analytic: -3.399041, relative error: 1.558529e-08\n",
      "numerical: 1.466729 analytic: 1.466729, relative error: 2.261829e-08\n",
      "numerical: -2.234283 analytic: -2.234283, relative error: 5.542730e-09\n",
      "numerical: 0.544872 analytic: 0.544872, relative error: 1.310421e-07\n"
     ]
    }
   ],
   "source": [
    "# Complete the implementation of softmax_loss_naive and implement a (naive)\n",
    "# version of the gradient that uses nested loops.\n",
    "loss, grad = softmax_loss_naive(W, X_dev, y_dev, 0.0)\n",
    "\n",
    "# As we did for the SVM, use numeric gradient checking as a debugging tool.\n",
    "# The numeric gradient should be close to the analytic gradient.\n",
    "from cs231n.gradient_check import grad_check_sparse\n",
    "f = lambda w: softmax_loss_naive(w, X_dev, y_dev, 0.0)[0]\n",
    "grad_numerical = grad_check_sparse(f, W, grad, 10)\n",
    "print(\"With regularization\")\n",
    "# similar to SVM case, do another gradient check with regularization\n",
    "loss, grad = softmax_loss_naive(W, X_dev, y_dev, 5e3)\n",
    "f = lambda w: softmax_loss_naive(w, X_dev, y_dev, 5e3)[0]\n",
    "grad_numerical = grad_check_sparse(f, W, grad, 10)"
   ]
  },
  {
   "cell_type": "code",
   "execution_count": 23,
   "metadata": {
    "collapsed": false
   },
   "outputs": [
    {
     "name": "stdout",
     "output_type": "stream",
     "text": [
      "naive loss: 2.339267e+00 computed in 0.047557s\n",
      "vectorized loss: 2.339267e+00 computed in 0.006785s\n",
      "Loss difference: 0.000000\n",
      "Gradient difference: 0.000000\n"
     ]
    }
   ],
   "source": [
    "# Now that we have a naive implementation of the softmax loss function and its gradient,\n",
    "# implement a vectorized version in softmax_loss_vectorized.\n",
    "# The two versions should compute the same results, but the vectorized version should be\n",
    "# much faster.\n",
    "tic = time.time()\n",
    "loss_naive, grad_naive = softmax_loss_naive(W, X_dev, y_dev, 0.000005)\n",
    "toc = time.time()\n",
    "print('naive loss: %e computed in %fs' % (loss_naive, toc - tic))\n",
    "\n",
    "from cs231n.classifiers.softmax import softmax_loss_vectorized\n",
    "tic = time.time()\n",
    "loss_vectorized, grad_vectorized = softmax_loss_vectorized(W, X_dev, y_dev, 0.000005)\n",
    "toc = time.time()\n",
    "print('vectorized loss: %e computed in %fs' % (loss_vectorized, toc - tic))\n",
    "\n",
    "# As we did for the SVM, we use the Frobenius norm to compare the two versions\n",
    "# of the gradient.\n",
    "grad_difference = np.linalg.norm(grad_naive - grad_vectorized, ord='fro')\n",
    "print('Loss difference: %f' % np.abs(loss_naive - loss_vectorized))\n",
    "print('Gradient difference: %f' % grad_difference)"
   ]
  },
  {
   "cell_type": "code",
   "execution_count": 52,
   "metadata": {
    "collapsed": false
   },
   "outputs": [
    {
     "name": "stdout",
     "output_type": "stream",
     "text": [
      "Epoch 0, avg loss: 1.989308299264574\n",
      "Epoch 1, avg loss: 1.8639171401625194\n",
      "Epoch 2, avg loss: 1.8260842025187323\n",
      "Epoch 3, avg loss: 1.804205087164228\n",
      "Epoch 4, avg loss: 1.7891071963273073\n",
      "Epoch 5, avg loss: 1.7777080948328567\n",
      "Epoch 6, avg loss: 1.768603993967603\n",
      "Epoch 7, avg loss: 1.7610477632205366\n",
      "Epoch 8, avg loss: 1.7546006412067199\n",
      "Epoch 9, avg loss: 1.7489859876149958\n",
      "Epoch 0, avg loss: 2.0147212139978743\n",
      "Epoch 1, avg loss: 1.8722407566422048\n",
      "Epoch 2, avg loss: 1.8307323813689336\n",
      "Epoch 3, avg loss: 1.8072466926761506\n",
      "Epoch 4, avg loss: 1.7913459848077316\n",
      "Epoch 5, avg loss: 1.7795155205258746\n",
      "Epoch 6, avg loss: 1.7701657402667352\n",
      "Epoch 7, avg loss: 1.7624614830711798\n",
      "Epoch 8, avg loss: 1.755919666246665\n",
      "Epoch 9, avg loss: 1.7502403082997102\n",
      "Epoch 0, avg loss: 1.8720288516111105\n",
      "Epoch 1, avg loss: 1.7749110734792048\n",
      "Epoch 2, avg loss: 1.7481977156960764\n",
      "Epoch 3, avg loss: 1.7322311961344177\n",
      "Epoch 4, avg loss: 1.7210017502887351\n",
      "Epoch 5, avg loss: 1.7124387636454137\n",
      "Epoch 6, avg loss: 1.705565846571826\n",
      "Epoch 7, avg loss: 1.6998487306801895\n",
      "Epoch 8, avg loss: 1.6949668530819102\n",
      "Epoch 9, avg loss: 1.6907144990784047\n",
      "Epoch 0, avg loss: 1.8728957645396822\n",
      "Epoch 1, avg loss: 1.775118026161091\n",
      "Epoch 2, avg loss: 1.7482436065947193\n",
      "Epoch 3, avg loss: 1.732178721454921\n",
      "Epoch 4, avg loss: 1.7208916153438574\n",
      "Epoch 5, avg loss: 1.7122986552499584\n",
      "Epoch 6, avg loss: 1.705412980638318\n",
      "Epoch 7, avg loss: 1.6996931232391983\n",
      "Epoch 8, avg loss: 1.694814022159975\n",
      "Epoch 9, avg loss: 1.6905672926788666\n",
      "lr 1.000000e-07 reg 2.500000e+04 train accuracy: 40.726531 val accuracy: 39.700000\n",
      "lr 1.000000e-07 reg 5.000000e+04 train accuracy: 40.563265 val accuracy: 40.800000\n",
      "lr 5.000000e-07 reg 2.500000e+04 train accuracy: 42.918367 val accuracy: 42.100000\n",
      "lr 5.000000e-07 reg 5.000000e+04 train accuracy: 42.985714 val accuracy: 41.800000\n",
      "best validation accuracy achieved during cross-validation: 42.100000\n"
     ]
    }
   ],
   "source": [
    "# Use the validation set to tune hyperparameters (regularization strength and\n",
    "# learning rate). You should experiment with different ranges for the learning\n",
    "# rates and regularization strengths; if you are careful you should be able to\n",
    "# get a classification accuracy of over 0.35 on the validation set.\n",
    "from cs231n.classifiers.softmax import Softmax, softmax_loss_vectorized\n",
    "results = {}\n",
    "best_val = -1\n",
    "best_softmax = None\n",
    "learning_rates = [1e-7, 5e-7]\n",
    "regularization_strengths = [2.5e4, 5e4]\n",
    "\n",
    "################################################################################\n",
    "# TODO:                                                                        #\n",
    "# Use the validation set to set the learning rate and regularization strength. #\n",
    "# This should be identical to the validation that you did for the SVM; save    #\n",
    "# the best trained softmax classifer in best_softmax.                          #\n",
    "################################################################################\n",
    "from itertools import product\n",
    "for lr, reg in product(learning_rates, regularization_strengths):\n",
    "    W = np.random.randn(3073, 10) * 0.0001\n",
    "    s = Softmax(W)\n",
    "    s.train(X_train, y_train, 10, lr, 100, 0, 1)\n",
    "    \n",
    "    y_train_pred = np.argmax(s.classify(X_train), axis=1)\n",
    "    train_acc = np.sum(y_train_pred==y_train)/y_train_pred.shape[0]*100\n",
    "    \n",
    "    y_val_pred =  np.argmax(s.classify(X_val), axis=1)\n",
    "    val_acc = np.sum(y_val_pred==y_val)/y_val_pred.shape[0]*100\n",
    "    \n",
    "    results[(lr,reg)] = (train_acc,val_acc)\n",
    "    \n",
    "    if val_acc>best_val:\n",
    "        best_val = val_acc\n",
    "        best_softmax = s\n",
    "    \n",
    "################################################################################\n",
    "#                              END OF YOUR CODE                                #\n",
    "################################################################################\n",
    "    \n",
    "# Print out results.\n",
    "for lr, reg in sorted(results):\n",
    "    train_accuracy, val_accuracy = results[(lr, reg)]\n",
    "    print('lr %e reg %e train accuracy: %f val accuracy: %f' % (\n",
    "                lr, reg, train_accuracy, val_accuracy))\n",
    "    \n",
    "print('best validation accuracy achieved during cross-validation: %f' % best_val)"
   ]
  },
  {
   "cell_type": "code",
   "execution_count": 53,
   "metadata": {
    "collapsed": false
   },
   "outputs": [
    {
     "name": "stdout",
     "output_type": "stream",
     "text": [
      "softmax on raw pixels final test set accuracy: 0.403000\n"
     ]
    }
   ],
   "source": [
    "# evaluate on test set\n",
    "# Evaluate the best softmax on test set\n",
    "y_test_pred = best_softmax.predict(X_test)\n",
    "test_accuracy = np.mean(y_test == y_test_pred)\n",
    "print('softmax on raw pixels final test set accuracy: %f' % (test_accuracy, ))"
   ]
  },
  {
   "cell_type": "code",
   "execution_count": 54,
   "metadata": {
    "collapsed": false
   },
   "outputs": [
    {
     "data": {
      "image/png": "[encoded data removed]",
      "text/plain": [
       "<matplotlib.figure.Figure at 0x7f4b2b053e48>"
      ]
     },
     "metadata": {},
     "output_type": "display_data"
    }
   ],
   "source": [
    "# Visualize the learned weights for each class\n",
    "w = best_softmax.W[:-1,:] # strip out the bias\n",
    "w = w.reshape(32, 32, 3, 10)\n",
    "\n",
    "w_min, w_max = np.min(w), np.max(w)\n",
    "\n",
    "classes = ['plane', 'car', 'bird', 'cat', 'deer', 'dog', 'frog', 'horse', 'ship', 'truck']\n",
    "for i in range(10):\n",
    "    plt.subplot(2, 5, i + 1)\n",
    "    \n",
    "    # Rescale the weights to be between 0 and 255\n",
    "    wimg = 255.0 * (w[:, :, :, i].squeeze() - w_min) / (w_max - w_min)\n",
    "    plt.imshow(wimg.astype('uint8'))\n",
    "    plt.axis('off')\n",
    "    plt.title(classes[i])"
   ]
  },
  {
   "cell_type": "code",
   "execution_count": null,
   "metadata": {
    "collapsed": true
   },
   "outputs": [],
   "source": []
  }
 ],
 "metadata": {
  "kernelspec": {
   "display_name": "Python 3",
   "language": "python",
   "name": "python3"
  },
  "language_info": {
   "codemirror_mode": {
    "name": "ipython",
    "version": 3
   },
   "file_extension": ".py",
   "mimetype": "text/x-python",
   "name": "python",
   "nbconvert_exporter": "python",
   "pygments_lexer": "ipython3",
   "version": "3.5.2"
  }
 },
 "nbformat": 4,
 "nbformat_minor": 0
}
